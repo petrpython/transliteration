{
  "nbformat": 4,
  "nbformat_minor": 0,
  "metadata": {
    "colab": {
      "provenance": [],
      "authorship_tag": "ABX9TyMznUI4yGfwuCd+FAPeDxh2",
      "include_colab_link": true
    },
    "kernelspec": {
      "name": "python3",
      "display_name": "Python 3"
    },
    "language_info": {
      "name": "python"
    }
  },
  "cells": [
    {
      "cell_type": "markdown",
      "metadata": {
        "id": "view-in-github",
        "colab_type": "text"
      },
      "source": [
        "<a href=\"https://colab.research.google.com/github/petrpython/transliteration/blob/main/transliteration.ipynb\" target=\"_parent\"><img src=\"https://colab.research.google.com/assets/colab-badge.svg\" alt=\"Open In Colab\"/></a>"
      ]
    },
    {
      "cell_type": "code",
      "execution_count": null,
      "metadata": {
        "id": "5vOCh_iRotfN"
      },
      "outputs": [],
      "source": [
        "letters = {\n",
        "'а':'a', 'б':'b', 'в':'v', 'г':'g', 'д':'d', 'е':'e', 'ё':'yo', 'ж':'zh', 'з':'z', 'и':'i', 'й':'y', 'к':'k', 'л':'l',\n",
        "'м':'m', 'н':'n', 'о':'o', 'п':'p', 'р':'r', 'с':'s', 'т':'t', 'у':'u', 'ф':'f', 'х':'h', 'ц':'ts', 'ч':'ch', 'ш':'sh',\n",
        "'щ':'shch', 'ъ':'y', 'ы':'y', 'ь':\"'\", 'э':'e', 'ю':'yu', 'я':'ya'\n",
        "}\n",
        "with open('cyrillic.txt') as files, open('transliteration.txt', 'w') as file2:\n",
        "    for i in file1.read():\n",
        "        if i in letters:\n",
        "            file2.write(letters[i])\n",
        "        elif i.lower() in letters:\n",
        "            file2.write(letters[i.lower()].capitalize())\n",
        "        else:\n",
        "            file2.write(i)"
      ]
    }
  ]
}